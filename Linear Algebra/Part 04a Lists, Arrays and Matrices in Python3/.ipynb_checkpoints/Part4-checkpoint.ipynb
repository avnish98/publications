{
 "cells": [
  {
   "cell_type": "code",
   "execution_count": 3,
   "metadata": {},
   "outputs": [
    {
     "name": "stdout",
     "output_type": "stream",
     "text": [
      "1\n",
      "33\n",
      "43\n",
      "2.1\n",
      "[1, 33, 2, 1, 43, 3, 4, 4, 5, 2]\n",
      "[33.2, 33.2, 33.2]\n"
     ]
    }
   ],
   "source": [
    "int_arr = [1, 33, 2, 1, 43] # all elements are integer type\n",
    "float_arr = [1.1, 4.0, 2.1] # all elements are float type\n",
    "\n",
    "print(int_arr[0])   # outputs 1 \n",
    "print(int_arr[1])   # outputs 33 \n",
    "print(int_arr[4])   # outputs 43 \n",
    "\n",
    "print(float_arr[2]) # outputs 2.1\n",
    "\n",
    "\"\"\" Using + (Plus) sign we can concatenate two arrays \"\"\"\n",
    "\n",
    "int_arr2 = [3, 4, 4, 5, 2]\n",
    "print(int_arr + int_arr2) # returns [1, 33, 2, 1, 43, 3, 4, 4, 5, 2]\n",
    "\n",
    "\"\"\" * (Star) can be used to duplicate list  \"\"\"\n",
    "\n",
    "float_arr2 = [33.2]*3\n",
    "print(float_arr2) # returns [33.2, 33.2, 33.2]"
   ]
  },
  {
   "cell_type": "code",
   "execution_count": 15,
   "metadata": {},
   "outputs": [
    {
     "name": "stdout",
     "output_type": "stream",
     "text": [
      "34.0\n",
      "world\n"
     ]
    }
   ],
   "source": [
    "lst = [ \"hello\", 1, 34.0, 22, \"world\"] # integer, float and string type elements\n",
    "\n",
    "print(lst[2]) # outputs 34.0\n",
    "print(lst[4]) # outputs \"world\""
   ]
  },
  {
   "cell_type": "code",
   "execution_count": 11,
   "metadata": {},
   "outputs": [
    {
     "name": "stdout",
     "output_type": "stream",
     "text": [
      "2\n",
      "21\n",
      "13\n"
     ]
    }
   ],
   "source": [
    "\n",
    "mat = [[3,2,22], # row 1 \n",
    "       [4,5,21], # row 2 \n",
    "       [13,2,1]] # row 3\n",
    "\n",
    "print(mat[0][1]) # row 1 and column 2 = 2\n",
    "print(mat[1][2]) # row 2 and column 3 = 21\n",
    "print(mat[2][0]) # row 3 and column 1 = 13"
   ]
  },
  {
   "cell_type": "code",
   "execution_count": 7,
   "metadata": {},
   "outputs": [
    {
     "name": "stdout",
     "output_type": "stream",
     "text": [
      "[5 7 9]\n",
      "<class 'numpy.ndarray'>\n",
      "[[ 33  96   9]\n",
      " [ 24 189   6]\n",
      " [  3  12  15]]\n"
     ]
    }
   ],
   "source": [
    "import numpy as np \n",
    "\n",
    "\"\"\" np.array(<array>) changes the <array> into a numpy array \"\"\" \n",
    "\n",
    "num_1d = np.array([2,3,4]) # 1 Dimensional numpy array\n",
    "\n",
    "num_3d = np.array([[11,32,3],\n",
    "                   [8,63,2],\n",
    "                   [1,4,5]]) # 3 Dimensional numpy array or a matrix\n",
    "\n",
    "\"\"\" Unlike normal python array, numpy array responds different to + (Plus) operator \"\"\"\n",
    "\"\"\" It adds elements at same index and returns another numpy array of same length \"\"\"\n",
    "num2_1d = np.array([3,4,5])\n",
    "\n",
    "print(num_1d + num2_1d) # returns [5 7 9]\n",
    "print(type(num_1d + num2_1d)) # returns <class 'numpy.ndarray'>\n",
    "\n",
    "\"\"\" * (Star) operator multiplies a scalar quantity with the elements of array \"\"\"\n",
    "\"\"\"   instead of duplicating elements \"\"\"\n",
    "\n",
    "print(num_3d*3) # returns [[ 33  96   9]\n",
    "                #          [ 24 189   6]\n",
    "                #          [  3  12  15]]\n"
   ]
  }
 ],
 "metadata": {
  "kernelspec": {
   "display_name": "Python 3",
   "language": "python",
   "name": "python3"
  },
  "language_info": {
   "codemirror_mode": {
    "name": "ipython",
    "version": 3
   },
   "file_extension": ".py",
   "mimetype": "text/x-python",
   "name": "python",
   "nbconvert_exporter": "python",
   "pygments_lexer": "ipython3",
   "version": "3.7.0"
  }
 },
 "nbformat": 4,
 "nbformat_minor": 2
}
