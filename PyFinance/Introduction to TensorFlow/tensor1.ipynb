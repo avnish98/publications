{
  "nbformat": 4,
  "nbformat_minor": 0,
  "metadata": {
    "colab": {
      "name": "tensor1.ipynb",
      "version": "0.3.2",
      "provenance": [],
      "collapsed_sections": []
    },
    "kernelspec": {
      "name": "python3",
      "display_name": "Python 3"
    }
  },
  "cells": [
    {
      "metadata": {
        "id": "A3dTDuewLwks",
        "colab_type": "code",
        "colab": {
          "base_uri": "https://localhost:8080/",
          "height": 34
        },
        "outputId": "0f36577f-9961-41fc-ed0b-13ee86351545"
      },
      "cell_type": "code",
      "source": [
        "import tensorflow as tf\n",
        "print(tf.__version__)"
      ],
      "execution_count": 2,
      "outputs": [
        {
          "output_type": "stream",
          "text": [
            "1.13.1\n"
          ],
          "name": "stdout"
        }
      ]
    },
    {
      "metadata": {
        "id": "bFJ1UUdZL3vD",
        "colab_type": "code",
        "colab": {}
      },
      "cell_type": "code",
      "source": [
        "# Creating graph\n",
        "a = tf.Variable(initial_value=2, name=\"A\")\n",
        "x = tf.Variable(initial_value=3, name=\"X\")\n",
        "c = tf.Variable(initial_value=4, name=\"C\")\n",
        "y = a*x + c"
      ],
      "execution_count": 0,
      "outputs": []
    },
    {
      "metadata": {
        "id": "TBMaAanaNh8t",
        "colab_type": "code",
        "colab": {
          "base_uri": "https://localhost:8080/",
          "height": 34
        },
        "outputId": "985b3a1b-f981-4349-b8b5-a80c82a15a14"
      },
      "cell_type": "code",
      "source": [
        "with tf.Session() as sess: # Creates a TensorFlow session object : sess\n",
        "  \n",
        "  # Initializes all the variables\n",
        "  a.initializer.run()\n",
        "  x.initializer.run()\n",
        "  c.initializer.run()\n",
        "  \n",
        "  # Evaluates the function\n",
        "  result = y.eval()\n",
        "  print(result)"
      ],
      "execution_count": 6,
      "outputs": [
        {
          "output_type": "stream",
          "text": [
            "10\n"
          ],
          "name": "stdout"
        }
      ]
    },
    {
      "metadata": {
        "id": "8341d462Mu10",
        "colab_type": "code",
        "colab": {}
      },
      "cell_type": "code",
      "source": [
        "# An alternative to initializing every variable individually\n",
        "# is using global variable initializer\n",
        "\n",
        "gvinit = tf.global_variable_initializer()\n",
        "gvinit.run() # Initializes all the variables at once"
      ],
      "execution_count": 0,
      "outputs": []
    },
    {
      "metadata": {
        "id": "59f6kdrkPPs1",
        "colab_type": "code",
        "colab": {}
      },
      "cell_type": "code",
      "source": [
        ""
      ],
      "execution_count": 0,
      "outputs": []
    }
  ]
}