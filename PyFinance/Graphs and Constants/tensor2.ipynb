{
  "nbformat": 4,
  "nbformat_minor": 0,
  "metadata": {
    "colab": {
      "name": "tensor2.ipynb",
      "version": "0.3.2",
      "provenance": [],
      "collapsed_sections": []
    },
    "kernelspec": {
      "name": "python3",
      "display_name": "Python 3"
    }
  },
  "cells": [
    {
      "metadata": {
        "id": "JZEBFCy4YPay",
        "colab_type": "code",
        "colab": {}
      },
      "cell_type": "code",
      "source": [
        "import tensorflow as tf"
      ],
      "execution_count": 0,
      "outputs": []
    },
    {
      "metadata": {
        "id": "MjmamVQlYT9Y",
        "colab_type": "code",
        "colab": {}
      },
      "cell_type": "code",
      "source": [
        "g1 = tf.Graph()\n",
        "\n",
        "with g1.as_default():\n",
        "  x = tf.Variable(initial_value=\"2\", name=\"X\")\n",
        "  y = tf.Variable(initial_value=\"7\", name=\"Y\")"
      ],
      "execution_count": 0,
      "outputs": []
    },
    {
      "metadata": {
        "id": "y7LShvEtch-s",
        "colab_type": "code",
        "colab": {
          "base_uri": "https://localhost:8080/",
          "height": 52
        },
        "outputId": "2e38b7f2-95ab-4298-abda-a635d58a49fe"
      },
      "cell_type": "code",
      "source": [
        "const = tf.constant(2)\n",
        "y = const*3\n",
        "z = y+9\n",
        "\n",
        "with tf.Session() as sess:\n",
        "  print(z.eval())\n",
        "  print(y.eval())"
      ],
      "execution_count": 7,
      "outputs": [
        {
          "output_type": "stream",
          "text": [
            "15\n",
            "6\n"
          ],
          "name": "stdout"
        }
      ]
    },
    {
      "metadata": {
        "id": "4qDfNDlCeBOr",
        "colab_type": "code",
        "colab": {}
      },
      "cell_type": "code",
      "source": [
        "with tf.Session() as sess:\n",
        "  y_2, z_2 = sess.run([y, z])"
      ],
      "execution_count": 0,
      "outputs": []
    }
  ]
}