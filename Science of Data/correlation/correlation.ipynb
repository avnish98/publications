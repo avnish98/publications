{
  "nbformat": 4,
  "nbformat_minor": 0,
  "metadata": {
    "colab": {
      "name": "correlation.ipynb",
      "version": "0.3.2",
      "provenance": [],
      "collapsed_sections": []
    },
    "kernelspec": {
      "name": "python3",
      "display_name": "Python 3"
    }
  },
  "cells": [
    {
      "metadata": {
        "id": "lxsSOXsM4Ybp",
        "colab_type": "code",
        "colab": {}
      },
      "cell_type": "code",
      "source": [
        "# Importing necessary libraries\n",
        "import numpy as np\n",
        "import pandas as pd\n",
        "import matplotlib.pyplot as plt\n",
        "import seaborn as sns\n",
        "\n",
        "sns.set_style('darkgrid')"
      ],
      "execution_count": 0,
      "outputs": []
    },
    {
      "metadata": {
        "id": "7GJVVL8M9OhN",
        "colab_type": "code",
        "outputId": "4ce7a274-843b-4184-b7de-78488f89a89f",
        "colab": {
          "base_uri": "https://localhost:8080/",
          "height": 206
        }
      },
      "cell_type": "code",
      "source": [
        "# Creating a data frame\n",
        "x = np.arange(0,10)\n",
        "y = np.random.rand(10)\n",
        "\n",
        "df = pd.DataFrame({\"X\":x, \"Y\":y})\n",
        "\n",
        "df.head()"
      ],
      "execution_count": 3,
      "outputs": [
        {
          "output_type": "execute_result",
          "data": {
            "text/html": [
              "<div>\n",
              "<style scoped>\n",
              "    .dataframe tbody tr th:only-of-type {\n",
              "        vertical-align: middle;\n",
              "    }\n",
              "\n",
              "    .dataframe tbody tr th {\n",
              "        vertical-align: top;\n",
              "    }\n",
              "\n",
              "    .dataframe thead th {\n",
              "        text-align: right;\n",
              "    }\n",
              "</style>\n",
              "<table border=\"1\" class=\"dataframe\">\n",
              "  <thead>\n",
              "    <tr style=\"text-align: right;\">\n",
              "      <th></th>\n",
              "      <th>X</th>\n",
              "      <th>Y</th>\n",
              "    </tr>\n",
              "  </thead>\n",
              "  <tbody>\n",
              "    <tr>\n",
              "      <th>0</th>\n",
              "      <td>0</td>\n",
              "      <td>0.342152</td>\n",
              "    </tr>\n",
              "    <tr>\n",
              "      <th>1</th>\n",
              "      <td>1</td>\n",
              "      <td>0.792151</td>\n",
              "    </tr>\n",
              "    <tr>\n",
              "      <th>2</th>\n",
              "      <td>2</td>\n",
              "      <td>0.932638</td>\n",
              "    </tr>\n",
              "    <tr>\n",
              "      <th>3</th>\n",
              "      <td>3</td>\n",
              "      <td>0.369216</td>\n",
              "    </tr>\n",
              "    <tr>\n",
              "      <th>4</th>\n",
              "      <td>4</td>\n",
              "      <td>0.419856</td>\n",
              "    </tr>\n",
              "  </tbody>\n",
              "</table>\n",
              "</div>"
            ],
            "text/plain": [
              "   X         Y\n",
              "0  0  0.342152\n",
              "1  1  0.792151\n",
              "2  2  0.932638\n",
              "3  3  0.369216\n",
              "4  4  0.419856"
            ]
          },
          "metadata": {
            "tags": []
          },
          "execution_count": 3
        }
      ]
    },
    {
      "metadata": {
        "id": "Y4KBcWI3-kKT",
        "colab_type": "code",
        "outputId": "964b360b-4fa1-46ba-c144-d8a7c952b003",
        "colab": {
          "base_uri": "https://localhost:8080/",
          "height": 112
        }
      },
      "cell_type": "code",
      "source": [
        "# Generating a correlation matrix\n",
        "df.corr()"
      ],
      "execution_count": 4,
      "outputs": [
        {
          "output_type": "execute_result",
          "data": {
            "text/html": [
              "<div>\n",
              "<style scoped>\n",
              "    .dataframe tbody tr th:only-of-type {\n",
              "        vertical-align: middle;\n",
              "    }\n",
              "\n",
              "    .dataframe tbody tr th {\n",
              "        vertical-align: top;\n",
              "    }\n",
              "\n",
              "    .dataframe thead th {\n",
              "        text-align: right;\n",
              "    }\n",
              "</style>\n",
              "<table border=\"1\" class=\"dataframe\">\n",
              "  <thead>\n",
              "    <tr style=\"text-align: right;\">\n",
              "      <th></th>\n",
              "      <th>X</th>\n",
              "      <th>Y</th>\n",
              "    </tr>\n",
              "  </thead>\n",
              "  <tbody>\n",
              "    <tr>\n",
              "      <th>X</th>\n",
              "      <td>1.000000</td>\n",
              "      <td>0.212001</td>\n",
              "    </tr>\n",
              "    <tr>\n",
              "      <th>Y</th>\n",
              "      <td>0.212001</td>\n",
              "      <td>1.000000</td>\n",
              "    </tr>\n",
              "  </tbody>\n",
              "</table>\n",
              "</div>"
            ],
            "text/plain": [
              "          X         Y\n",
              "X  1.000000  0.212001\n",
              "Y  0.212001  1.000000"
            ]
          },
          "metadata": {
            "tags": []
          },
          "execution_count": 4
        }
      ]
    },
    {
      "metadata": {
        "id": "D1BROl4t-Hh2",
        "colab_type": "code",
        "outputId": "45758f21-b30c-4c52-ea6c-41f2062d35c3",
        "colab": {
          "base_uri": "https://localhost:8080/",
          "height": 364
        }
      },
      "cell_type": "code",
      "source": [
        "# A Heatmap can easily vizualize a correlation matrix\n",
        "sns.heatmap(df.corr())"
      ],
      "execution_count": 5,
      "outputs": [
        {
          "output_type": "execute_result",
          "data": {
            "text/plain": [
              "<matplotlib.axes._subplots.AxesSubplot at 0x7f75bd842940>"
            ]
          },
          "metadata": {
            "tags": []
          },
          "execution_count": 5
        },
        {
          "output_type": "display_data",
          "data": {
            "image/png": "[encoded data removed]",
            "text/plain": [
              "<Figure size 576x396 with 2 Axes>"
            ]
          },
          "metadata": {
            "tags": []
          }
        }
      ]
    },
    {
      "metadata": {
        "id": "HibhRlVf3TKq",
        "colab_type": "code",
        "outputId": "0f140416-34de-4a6e-8ca0-152c46129982",
        "colab": {
          "base_uri": "https://localhost:8080/",
          "height": 52
        }
      },
      "cell_type": "code",
      "source": [
        "def pearson_coeff(df, x, y):\n",
        "  \"\"\"A Function for calculating Pearson Product-Moment Correlation\"\"\"\n",
        "  \n",
        "  # Calculating new values\n",
        "  df['xy'] = df[x]*df[y]\n",
        "  df['sqr_x'] = df[x].apply(lambda x : x**2)\n",
        "  df['sqr_y'] = df[y].apply(lambda y : y**2)\n",
        "  \n",
        "  N = len(df[x])              # Number of Observation pairs\n",
        "  sum_x = sum(df[x])          # Sum of x's\n",
        "  sum_y = sum(df[y])          # Sum of y's\n",
        "  sum_xy = sum(df['xy'])      # Sum of products of x and y\n",
        "  sum_sqrx = sum(df['sqr_x']) # Sum of x's squared\n",
        "  sum_sqry = sum(df['sqr_y']) # Sum of y's squared\n",
        "  \n",
        "  # Numerator\n",
        "  num = (N*sum_xy) - ((sum_x)*(sum_y)) \n",
        "  \n",
        "  # Denominator\n",
        "  den = ((N*sum_sqrx - (sum_x)**2)*(N*sum_sqry - (sum_y)**2))**0.5\n",
        "  \n",
        "  # Coefficient\n",
        "  r = num/den\n",
        "  \n",
        "  return r\n",
        "\n",
        "r = pearson_coeff(df,\"X\",\"Y\")\n",
        "print((\"Correlation using custom function : {}\").format(r))\n",
        "\n",
        "r1 = df.corr()\n",
        "print((\"Correlation using pandas function : {}\").format(r1[\"X\"][\"Y\"]))"
      ],
      "execution_count": 6,
      "outputs": [
        {
          "output_type": "stream",
          "text": [
            "Correlation using custom function : 0.2120012887292899\n",
            "Correlation using pandas function : 0.2120012887292896\n"
          ],
          "name": "stdout"
        }
      ]
    }
  ]
}